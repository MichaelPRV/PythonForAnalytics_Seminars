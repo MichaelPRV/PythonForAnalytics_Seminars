{
  "metadata": {
    "language_info": {
      "codemirror_mode": {
        "name": "python",
        "version": 3
      },
      "file_extension": ".py",
      "mimetype": "text/x-python",
      "name": "python",
      "nbconvert_exporter": "python",
      "pygments_lexer": "ipython3",
      "version": "3.8"
    },
    "kernelspec": {
      "name": "python",
      "display_name": "Python (Pyodide)",
      "language": "python"
    }
  },
  "nbformat_minor": 4,
  "nbformat": 4,
  "cells": [
    {
      "cell_type": "markdown",
      "source": "## Задание 1\nНа складе лежат разные фрукты в разном количестве.\\\nНужно написать функцию, которая на вход принимает любое количество названий фруктов и их количество, а возвращает общее количество фруктов на складе",
      "metadata": {}
    },
    {
      "cell_type": "code",
      "source": "def fruits_quantity(**kwargs):\n    return sum(kwargs.values())\n\nprint(fruits_quantity(banaba=5, mango=7, apple=8))",
      "metadata": {
        "trusted": true
      },
      "execution_count": 1,
      "outputs": [
        {
          "name": "stdout",
          "text": "20\n",
          "output_type": "stream"
        }
      ]
    },
    {
      "cell_type": "markdown",
      "source": "## Задание 2\nДан список с затратами на рекламу. Но в данных есть ошибки, некоторые затраты имеют отрицательную величину. Удалите такие значения из списка и посчитайте суммарные затраты\\\nИспользуйте list comprehensions",
      "metadata": {}
    },
    {
      "cell_type": "code",
      "source": "costs = [100, 125, -90, 345, 655, -1, 0, 200]\n\ncorrected_costs = [i for i in costs if i > 0]\n\nprint(sum(corrected_costs))",
      "metadata": {
        "trusted": true
      },
      "execution_count": 2,
      "outputs": [
        {
          "name": "stdout",
          "text": "1425\n",
          "output_type": "stream"
        }
      ]
    },
    {
      "cell_type": "markdown",
      "source": "## Задание 3\nДаны два списка:\n- Дата покупки\n- Суммы покупок по датам",
      "metadata": {}
    },
    {
      "cell_type": "code",
      "source": "purchase_dates = ['2021-09-14', '2021-12-15', '2021-09-08', '2021-12-05', '2021-10-09', '2021-09-30', '2021-12-22', '2021-11-29', '2021-12-24', \n                  '2021-11-26', '2021-10-27', '2021-12-18', '2021-11-09', '2021-11-23', '2021-09-27', '2021-10-02', '2021-12-27', '2021-09-20', \n                  '2021-12-13', '2021-11-01', '2021-11-09', '2021-12-06', '2021-12-08', '2021-10-09', '2021-10-31', '2021-09-30', '2021-11-09', \n                  '2021-12-13', '2021-10-26', '2021-12-09']\npurchase_amounts = [1270, 8413, 9028, 3703, 5739, 4095, 295, 4944, 5723, 3701, 4471, 651, 7037, 4274, 6275, 4988, 6930, 2971, 6592, 2004, 2822, \n                    519, 3406, 2732, 5015, 2008, 316, 6333, 5700, 2887]",
      "metadata": {
        "trusted": true
      },
      "execution_count": 3,
      "outputs": []
    },
    {
      "cell_type": "markdown",
      "source": "### 3.1 \nНайдите, какая выручка у компании в ноябре\\\nИспользуйте list comprehensions",
      "metadata": {}
    },
    {
      "cell_type": "code",
      "source": "november_revenue = [purchase_amounts[i] for i in range(len(purchase_amounts)) if purchase_dates[i][5:7] == '11']\nsum(november_revenue)",
      "metadata": {
        "trusted": true
      },
      "execution_count": 4,
      "outputs": [
        {
          "execution_count": 4,
          "output_type": "execute_result",
          "data": {
            "text/plain": "25098"
          },
          "metadata": {}
        }
      ]
    },
    {
      "cell_type": "markdown",
      "source": "### 3.2\nНайдите выручку компании в зависимости от месяца\\\nДля этого напишите функцию, которая на вход принимает список с датами и список с выручкой, а на выходе словарь, где ключи - это месяцы, а значения - это выручка.\nИспользуйте аннотирование типов.",
      "metadata": {}
    },
    {
      "cell_type": "code",
      "source": "def monthly_revenue(dates: list, revenue: list) -> dict:\n    months = {'01': 'Январь', '02': 'Февраль', '03': 'Март', '04': 'Апрель', '05': 'Май', '06': 'Июнь', '07': 'Июль', \n              '08': 'Август', '09': 'Сентябрь', '10': 'Октябрь', '11': 'Ноябрь', '12': 'Декабрь'}\n    data = [(dates[i][5:7], revenue[i]) for i in range(len(dates))]\n    data.sort(key=lambda x: x[0])\n    monthly_sales = {}\n    for i in range(len(data)):\n        monthly_sales[months[data[i][0]]] = monthly_sales.get(months[data[i][0]], 0) + data[i][1]\n    return monthly_sales\n    \n\nprint(monthly_revenue(purchase_dates, purchase_amounts))",
      "metadata": {
        "trusted": true
      },
      "execution_count": 8,
      "outputs": [
        {
          "name": "stdout",
          "text": "{'Сентябрь': 25647, 'Октябрь': 28645, 'Ноябрь': 25098, 'Декабрь': 45452}\n",
          "output_type": "stream"
        }
      ]
    },
    {
      "cell_type": "code",
      "source": "",
      "metadata": {},
      "execution_count": null,
      "outputs": []
    }
  ]
}
